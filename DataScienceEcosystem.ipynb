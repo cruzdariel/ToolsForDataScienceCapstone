{
 "cells": [
  {
   "cell_type": "markdown",
   "id": "d1276bcf-9444-45e5-8b21-e6c63e097697",
   "metadata": {},
   "source": [
    "# Data Science Tools and Ecosystem"
   ]
  },
  {
   "cell_type": "markdown",
   "id": "f0e6aba0-ea34-4a5c-8701-f8fc61ab6161",
   "metadata": {
    "tags": []
   },
   "source": [
    "## Author\n",
    "Dariel Cruz Rodriguez"
   ]
  },
  {
   "cell_type": "markdown",
   "id": "41a7d4b9-760c-472e-8436-b97fafa65e67",
   "metadata": {},
   "source": [
    "In this notebook, Data Science Tools and Ecosystem are summarized."
   ]
  },
  {
   "cell_type": "markdown",
   "id": "2f1320bb-53d8-465d-9a33-0208ec88f229",
   "metadata": {},
   "source": [
    "**Objectives:**\n",
    "- Decide between key factors of Cloud-based vs Local Environments\n",
    "- Learn about how to implement libraries for Python, R\n",
    "- Learn about how to upload code to Git Repositories"
   ]
  },
  {
   "cell_type": "markdown",
   "id": "6e583853-fb75-453b-9923-6dbfcab89042",
   "metadata": {},
   "source": [
    "Some of the popular languages that Data Scientists use are:\n",
    "1. R\n",
    "2. Python\n",
    "3. Julia"
   ]
  },
  {
   "cell_type": "markdown",
   "id": "0c443c9d-e2cb-409c-bdc1-94273402e918",
   "metadata": {},
   "source": [
    "Some of the commonly used libraries used by Data Scientists include:\n",
    "1. Pandas\n",
    "2. ggplot\n",
    "3. matplotlib"
   ]
  },
  {
   "cell_type": "markdown",
   "id": "80e7b23a-bdac-4072-8572-26496decc92f",
   "metadata": {
    "tags": []
   },
   "source": [
    "| Data Science Tools |\n",
    "|:--------:|\n",
    "|  VSCode   |\n",
    "|  Jupyter Notebooks   |\n",
    "|  Gitlab   |"
   ]
  },
  {
   "cell_type": "markdown",
   "id": "e38d1a7a-8a64-4889-88a4-680d48b4dc48",
   "metadata": {},
   "source": [
    "### Below are a few examples of evaluating arithmetic expressions in Python."
   ]
  },
  {
   "cell_type": "code",
   "execution_count": 3,
   "id": "e2c71c7a-f96f-4ffc-915c-e5cca5778ac7",
   "metadata": {
    "tags": []
   },
   "outputs": [
    {
     "data": {
      "text/plain": [
       "17"
      ]
     },
     "execution_count": 3,
     "metadata": {},
     "output_type": "execute_result"
    }
   ],
   "source": [
    "# This a simple arithmetic expression to mutiply then add integers\n",
    "(3*4)+5"
   ]
  },
  {
   "cell_type": "code",
   "execution_count": 4,
   "id": "8fd59d18-2930-4737-ac5b-bb0ddc4f96fa",
   "metadata": {
    "tags": []
   },
   "outputs": [
    {
     "data": {
      "text/plain": [
       "10.0"
      ]
     },
     "execution_count": 4,
     "metadata": {},
     "output_type": "execute_result"
    }
   ],
   "source": [
    "# This will convert 200 minutes to hours by diving by 60\n",
    "\n",
    "minutes = 600\n",
    "minutes/60"
   ]
  },
  {
   "cell_type": "code",
   "execution_count": null,
   "id": "1b734909-df60-415f-9bc0-916bdb57a413",
   "metadata": {},
   "outputs": [],
   "source": []
  }
 ],
 "metadata": {
  "kernelspec": {
   "display_name": "Python",
   "language": "python",
   "name": "conda-env-python-py"
  },
  "language_info": {
   "codemirror_mode": {
    "name": "ipython",
    "version": 3
   },
   "file_extension": ".py",
   "mimetype": "text/x-python",
   "name": "python",
   "nbconvert_exporter": "python",
   "pygments_lexer": "ipython3",
   "version": "3.7.12"
  }
 },
 "nbformat": 4,
 "nbformat_minor": 5
}
